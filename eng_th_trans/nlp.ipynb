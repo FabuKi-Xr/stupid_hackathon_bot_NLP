{
 "cells": [
  {
   "cell_type": "code",
   "execution_count": 2,
   "metadata": {},
   "outputs": [],
   "source": [
    "import pythainlp\n",
    "from enchant import Dict\n",
    "from pythainlp.spell import correct\n",
    "from pythainlp.util import isthai,thai_to_eng,eng_to_thai\n",
    "from pythainlp.spell import NorvigSpellChecker\n",
    "from pythainlp import word_tokenize"
   ]
  },
  {
   "cell_type": "code",
   "execution_count": 5,
   "metadata": {},
   "outputs": [],
   "source": [
    "def check(checker):\n",
    "    if checker == correct(checker):\n",
    "        print('true')\n",
    "    else:\n",
    "        print('false')"
   ]
  },
  {
   "cell_type": "code",
   "execution_count": 59,
   "metadata": {},
   "outputs": [
    {
     "name": "stdout",
     "output_type": "stream",
     "text": [
      "true\n"
     ]
    }
   ],
   "source": [
    "check(\"abd\")"
   ]
  },
  {
   "cell_type": "code",
   "execution_count": 16,
   "metadata": {},
   "outputs": [
    {
     "data": {
      "text/plain": [
       "'Mathemathic'"
      ]
     },
     "execution_count": 16,
     "metadata": {},
     "output_type": "execute_result"
    }
   ],
   "source": [
    "thai_to_eng(\"?ฟะ้ำทฟะ้รแ\")"
   ]
  },
  {
   "cell_type": "code",
   "execution_count": 51,
   "metadata": {},
   "outputs": [
    {
     "data": {
      "text/plain": [
       "'้ำสสน'"
      ]
     },
     "execution_count": 51,
     "metadata": {},
     "output_type": "execute_result"
    }
   ],
   "source": [
    "eng_to_thai(\"hello\")"
   ]
  },
  {
   "cell_type": "code",
   "execution_count": 47,
   "metadata": {},
   "outputs": [
    {
     "name": "stdout",
     "output_type": "stream",
     "text": [
      "['พ', 'รุ้ง', 'นี้', 'ไปย', 'งาน', 'Hackathon', 'เจอกัน', '8.30', 'นะ']\n"
     ]
    }
   ],
   "source": [
    "testtxt = \"พรุ้งนี้ไปยงาน Hackathon เจอกัน 8.30 นะ\"\n",
    "print(word_tokenize(testtxt, keep_whitespace=False))"
   ]
  },
  {
   "cell_type": "code",
   "execution_count": 48,
   "metadata": {},
   "outputs": [
    {
     "name": "stdout",
     "output_type": "stream",
     "text": [
      "false\n"
     ]
    }
   ],
   "source": [
    "check(\"ไปย\")"
   ]
  },
  {
   "cell_type": "code",
   "execution_count": 54,
   "metadata": {},
   "outputs": [],
   "source": [
    "from pythainlp.tokenize import syllable_tokenize\n",
    "\n",
    "text = 'ร้ถไฟสมัยใหม่จะชั้ยกำลังจากหัวรถจักรดีเซล หรือจากไฟฟ้า'\n",
    "arr = syllable_tokenize(text,keep_whitespace=False)"
   ]
  },
  {
   "cell_type": "code",
   "execution_count": 56,
   "metadata": {},
   "outputs": [
    {
     "data": {
      "text/plain": [
       "'l,yp'"
      ]
     },
     "execution_count": 56,
     "metadata": {},
     "output_type": "execute_result"
    }
   ],
   "source": [
    "thai_to_eng(arr[2])"
   ]
  },
  {
   "cell_type": "code",
   "execution_count": 52,
   "metadata": {},
   "outputs": [
    {
     "data": {
      "text/plain": [
       "['ดาน', 'นท', 'ย่า', 'นาด', 'นาน', 'ระ', 'ยน', 'ททอสยทด']"
      ]
     },
     "execution_count": 52,
     "metadata": {},
     "output_type": "execute_result"
    }
   ],
   "source": [
    "text = 'ดานนทย่านาดนานระยนททอสยทด'\n",
    "syllable_tokenize(text,keep_whitespace=False)"
   ]
  },
  {
   "cell_type": "code",
   "execution_count": 105,
   "metadata": {},
   "outputs": [],
   "source": [
    "from enchant import Dict\n",
    "from pythainlp.spell import correct\n",
    "from pythainlp.tokenize import syllable_tokenize\n",
    "from pythainlp.util import isthai,thai_to_eng,eng_to_thai\n",
    "\n",
    "class TranslateBot:\n",
    "    \n",
    "    def __init__(self,msg,ignorer=\".0123456789\"):\n",
    "        \"\"\"\n",
    "        msg : ข้อความที่ต้องการตรวจสอบเเละเเก้ไข\n",
    "        ignorer : ตัว regex ที่อนุญาตให้มี\n",
    "        \"\"\"\n",
    "\n",
    "        self.msg = msg\n",
    "        self.ignorer = ignorer\n",
    "        self.d = Dict(\"en_us\")\n",
    "        print(self.d.check(\"English\"))\n",
    "\n",
    "    def getMsg(self):\n",
    "        arr = syllable_tokenize(self.msg) ## เเยก text ออกมาเป็น word ตรวจสอบทีละ word ว่าถูกต้องหรือไม่\n",
    "        # arr = word_tokenize(self.msg)\n",
    "        for index,item in enumerate(arr):\n",
    "            if item in \"๐๑๒๓๔๕๖๗๘๙\":\n",
    "                continue\n",
    "            if (isthai(item,self.ignorer)): ## เช็คว่าเป็นภาษาไทยหรือเปล่า\n",
    "                arr[index] = self.check(item)\n",
    "            else:\n",
    "                arr[index] = self.check(item,lang=\"en\")\n",
    "        # print(arr)\n",
    "        return \"\".join(arr)\n",
    "\n",
    "    def check(self,word,lang=\"th\"):\n",
    "        \"\"\"\n",
    "        ตรวจสอบว่าคำภาษาไทย สะกดถูกหรือไม่ => ถ้าถูกให้เเก้เป็นภาษาอังกฤษ\n",
    "        word : คำที่ต้องการตรวจสอบ\n",
    "        lang : ภาษาที่ทำการตรวจสอบ (th,en)\n",
    "        \"\"\"\n",
    "        if lang ==\"th\" and word == correct(word):\n",
    "            word = thai_to_eng(word) \n",
    "            # print(\"อยู่นี่จ้า\")\n",
    "            # return word\n",
    "        # print(word)\n",
    "        # print(word == self.d.check(word))\n",
    "        if lang == \"en\" and self.d.check(word):\n",
    "            word = eng_to_thai(word)\n",
    "            # print(\"hi2\")\n",
    "        \n",
    "        return word \n"
   ]
  },
  {
   "cell_type": "code",
   "execution_count": 111,
   "metadata": {},
   "outputs": [
    {
     "name": "stdout",
     "output_type": "stream",
     "text": [
      "True\n"
     ]
    }
   ],
   "source": [
    "msg = \"build\"\n",
    "bot = TranslateBot(msg,\".0123456789\")"
   ]
  },
  {
   "cell_type": "code",
   "execution_count": 112,
   "metadata": {},
   "outputs": [
    {
     "data": {
      "text/plain": [
       "'ิีรสก'"
      ]
     },
     "execution_count": 112,
     "metadata": {},
     "output_type": "execute_result"
    }
   ],
   "source": [
    "bot.getMsg()"
   ]
  }
 ],
 "metadata": {
  "kernelspec": {
   "display_name": "Python 3.9.7 ('base')",
   "language": "python",
   "name": "python3"
  },
  "language_info": {
   "codemirror_mode": {
    "name": "ipython",
    "version": 3
   },
   "file_extension": ".py",
   "mimetype": "text/x-python",
   "name": "python",
   "nbconvert_exporter": "python",
   "pygments_lexer": "ipython3",
   "version": "3.9.7"
  },
  "orig_nbformat": 4,
  "vscode": {
   "interpreter": {
    "hash": "263930470851f494f0ed2879c35b57985588df20f9e529b86e97dd5eb9ddc466"
   }
  }
 },
 "nbformat": 4,
 "nbformat_minor": 2
}
